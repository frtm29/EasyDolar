{
 "cells": [
  {
   "cell_type": "markdown",
   "metadata": {},
   "source": [
    "# Data Collection y Data Cleaning de Features y target"
   ]
  },
  {
   "cell_type": "code",
   "execution_count": 19,
   "metadata": {},
   "outputs": [
    {
     "ename": "ModuleNotFoundError",
     "evalue": "No module named 'EasyDolar.EasyDolar'",
     "output_type": "error",
     "traceback": [
      "\u001b[0;31m---------------------------------------------------------------------------\u001b[0m",
      "\u001b[0;31mModuleNotFoundError\u001b[0m                       Traceback (most recent call last)",
      "\u001b[1;32m/Users/frtm/code/frtm29/EasyDolar/notebooks/frt_14-12_Data Cleaning.ipynb Cell 2\u001b[0m line \u001b[0;36m3\n\u001b[1;32m      <a href='vscode-notebook-cell:/Users/frtm/code/frtm29/EasyDolar/notebooks/frt_14-12_Data%20Cleaning.ipynb#Y112sZmlsZQ%3D%3D?line=0'>1</a>\u001b[0m \u001b[39mimport\u001b[39;00m \u001b[39mpandas\u001b[39;00m \u001b[39mas\u001b[39;00m \u001b[39mpd\u001b[39;00m\n\u001b[1;32m      <a href='vscode-notebook-cell:/Users/frtm/code/frtm29/EasyDolar/notebooks/frt_14-12_Data%20Cleaning.ipynb#Y112sZmlsZQ%3D%3D?line=1'>2</a>\u001b[0m \u001b[39mimport\u001b[39;00m \u001b[39mmatplotlib\u001b[39;00m\u001b[39m.\u001b[39;00m\u001b[39mpyplot\u001b[39;00m \u001b[39mas\u001b[39;00m \u001b[39mplt\u001b[39;00m\n\u001b[0;32m----> <a href='vscode-notebook-cell:/Users/frtm/code/frtm29/EasyDolar/notebooks/frt_14-12_Data%20Cleaning.ipynb#Y112sZmlsZQ%3D%3D?line=2'>3</a>\u001b[0m \u001b[39mfrom\u001b[39;00m \u001b[39mEasyDolar\u001b[39;00m\u001b[39m.\u001b[39;00m\u001b[39mEasyDolar\u001b[39;00m \u001b[39mimport\u001b[39;00m clean_data\n",
      "\u001b[0;31mModuleNotFoundError\u001b[0m: No module named 'EasyDolar.EasyDolar'"
     ]
    }
   ],
   "source": [
    "import pandas as pd\n",
    "import matplotlib.pyplot as plt\n",
    "from  import clean_data\n"
   ]
  },
  {
   "cell_type": "code",
   "execution_count": 20,
   "metadata": {},
   "outputs": [
    {
     "name": "stdout",
     "output_type": "stream",
     "text": [
      "The autoreload extension is already loaded. To reload it, use:\n",
      "  %reload_ext autoreload\n"
     ]
    },
    {
     "name": "stderr",
     "output_type": "stream",
     "text": [
      "[autoreload of EasyDolar.clean_data failed: Traceback (most recent call last):\n",
      "  File \"/Users/frtm/.pyenv/versions/3.10.6/envs/EasyDolar/lib/python3.10/site-packages/IPython/extensions/autoreload.py\", line 276, in check\n",
      "    superreload(m, reload, self.old_objects)\n",
      "  File \"/Users/frtm/.pyenv/versions/3.10.6/envs/EasyDolar/lib/python3.10/site-packages/IPython/extensions/autoreload.py\", line 475, in superreload\n",
      "    module = reload(module)\n",
      "  File \"/Users/frtm/.pyenv/versions/3.10.6/lib/python3.10/importlib/__init__.py\", line 169, in reload\n",
      "    _bootstrap._exec(spec, module)\n",
      "  File \"<frozen importlib._bootstrap>\", line 619, in _exec\n",
      "  File \"<frozen importlib._bootstrap_external>\", line 883, in exec_module\n",
      "  File \"<frozen importlib._bootstrap>\", line 241, in _call_with_frames_removed\n",
      "  File \"/Users/frtm/code/frtm29/EasyDolar/EasyDolar/clean_data.py\", line 33, in <module>\n",
      "    print(clean_data())\n",
      "  File \"/Users/frtm/code/frtm29/EasyDolar/EasyDolar/clean_data.py\", line 11, in clean_data\n",
      "    cleaned_data = pd.read_excel(file_path)\n",
      "  File \"/Users/frtm/.pyenv/versions/3.10.6/envs/EasyDolar/lib/python3.10/site-packages/pandas/io/excel/_base.py\", line 504, in read_excel\n",
      "    io = ExcelFile(\n",
      "  File \"/Users/frtm/.pyenv/versions/3.10.6/envs/EasyDolar/lib/python3.10/site-packages/pandas/io/excel/_base.py\", line 1563, in __init__\n",
      "    ext = inspect_excel_format(\n",
      "FileNotFoundError: [Errno 2] No such file or directory: '/Users/frtm/code/frtm29/raw_data/data.xlsx'\n",
      "]\n"
     ]
    }
   ],
   "source": [
    "%load_ext autoreload\n",
    "%autoreload 2\n"
   ]
  },
  {
   "cell_type": "code",
   "execution_count": 21,
   "metadata": {},
   "outputs": [
    {
     "name": "stdout",
     "output_type": "stream",
     "text": [
      "/Users/frtm/code\n"
     ]
    },
    {
     "name": "stderr",
     "output_type": "stream",
     "text": [
      "/Users/frtm/.pyenv/versions/3.10.6/envs/EasyDolar/lib/python3.10/site-packages/IPython/core/magics/osm.py:417: UserWarning: using dhist requires you to install the `pickleshare` library.\n",
      "  self.shell.db['dhist'] = compress_dhist(dhist)[-100:]\n"
     ]
    }
   ],
   "source": [
    "cd ..\n"
   ]
  },
  {
   "cell_type": "code",
   "execution_count": 23,
   "metadata": {},
   "outputs": [
    {
     "ename": "NameError",
     "evalue": "name 'EasyDolar' is not defined",
     "output_type": "error",
     "traceback": [
      "\u001b[0;31m---------------------------------------------------------------------------\u001b[0m",
      "\u001b[0;31mNameError\u001b[0m                                 Traceback (most recent call last)",
      "\u001b[1;32m/Users/frtm/code/frtm29/EasyDolar/notebooks/frt_14-12_Data Cleaning.ipynb Cell 5\u001b[0m line \u001b[0;36m1\n\u001b[0;32m----> <a href='vscode-notebook-cell:/Users/frtm/code/frtm29/EasyDolar/notebooks/frt_14-12_Data%20Cleaning.ipynb#Y115sZmlsZQ%3D%3D?line=0'>1</a>\u001b[0m EasyDolar\u001b[39m.\u001b[39mclean_data\u001b[39m.\u001b[39mclean_data()\n",
      "\u001b[0;31mNameError\u001b[0m: name 'EasyDolar' is not defined"
     ]
    }
   ],
   "source": [
    "EasyDolar.clean_data.clean_data()\n"
   ]
  },
  {
   "cell_type": "code",
   "execution_count": 11,
   "metadata": {},
   "outputs": [
    {
     "name": "stdout",
     "output_type": "stream",
     "text": [
      "/Users/juancorrea/code/frtm29/EasyDolar\n"
     ]
    },
    {
     "name": "stderr",
     "output_type": "stream",
     "text": [
      "/Users/juancorrea/.pyenv/versions/3.10.6/envs/EasyDolar/lib/python3.10/site-packages/IPython/core/magics/osm.py:417: UserWarning: using dhist requires you to install the `pickleshare` library.\n",
      "  self.shell.db['dhist'] = compress_dhist(dhist)[-100:]\n"
     ]
    }
   ],
   "source": []
  },
  {
   "cell_type": "code",
   "execution_count": 15,
   "metadata": {},
   "outputs": [],
   "source": [
    "import pandas as pd\n",
    "import matplotlib.pyplot as plt\n",
    "import os\n",
    "\n",
    "def clean_data():\n",
    "    # Extraer la data\n",
    "    root_dir = os.path.dirname(os.path.dirname(__file__))\n",
    "    csv_path = os.path.join(root_dir, \"raw_data\")\n",
    "\n",
    "    file_names = [file_name for file_name in os.listdir(csv_path) if file_name.endswith(\".xlsx\")]\n",
    "\n",
    "    # Crear un DataFrame vacío para almacenar los datos\n",
    "    cleaned_data = pd.DataFrame()\n",
    "\n",
    "    for file_name in file_names:\n",
    "        # Leer el archivo y agregar los datos al DataFrame\n",
    "        current_data = pd.read_csv(os.path.join(csv_path, file_name))\n",
    "        cleaned_data = pd.concat([cleaned_data, current_data], ignore_index=True)\n",
    "\n",
    "    # Limpiar la columna 'variacion'\n",
    "    cleaned_data['variacion'] = cleaned_data['variacion'].str.rstrip('%').str.replace(',', '.').astype('float') / 100.0\n",
    "\n",
    "    # Convertir la columna \"date\" a formato de fecha\n",
    "    cleaned_data['date'] = pd.to_datetime(cleaned_data['date'], format='%d.%m.%Y')\n",
    "\n",
    "    # Establecer la columna \"date\" como índice\n",
    "    cleaned_data.set_index('date', inplace=True)\n",
    "\n",
    "    # Ordenar el DataFrame por fechas de forma ascendente\n",
    "    cleaned_data.sort_index(inplace=True)\n",
    "\n",
    "    # Crear la columna \"target\" como el valor de \"close\" desplazado\n",
    "    cleaned_data[\"target\"] = cleaned_data[\"close\"].shift(-1)\n",
    "\n",
    "    print(\"✅ data cleaned\")\n",
    "    cleaned_data\n",
    "    return cleaned_data\n",
    "\n",
    "# Uso de la función\n",
    "# Suponiendo que tienes un DataFrame llamado 'raw_data'\n",
    "# cleaned_data_result = clean_data(raw_data)\n"
   ]
  },
  {
   "cell_type": "code",
   "execution_count": 18,
   "metadata": {},
   "outputs": [
    {
     "ename": "NameError",
     "evalue": "name '__file__' is not defined",
     "output_type": "error",
     "traceback": [
      "\u001b[0;31m---------------------------------------------------------------------------\u001b[0m",
      "\u001b[0;31mNameError\u001b[0m                                 Traceback (most recent call last)",
      "\u001b[1;32m/Users/frtm/code/frtm29/EasyDolar/notebooks/frt_14-12_Data Cleaning.ipynb Cell 8\u001b[0m line \u001b[0;36m1\n\u001b[0;32m----> <a href='vscode-notebook-cell:/Users/frtm/code/frtm29/EasyDolar/notebooks/frt_14-12_Data%20Cleaning.ipynb#Y121sZmlsZQ%3D%3D?line=0'>1</a>\u001b[0m clean_data()\n",
      "\u001b[1;32m/Users/frtm/code/frtm29/EasyDolar/notebooks/frt_14-12_Data Cleaning.ipynb Cell 8\u001b[0m line \u001b[0;36m7\n\u001b[1;32m      <a href='vscode-notebook-cell:/Users/frtm/code/frtm29/EasyDolar/notebooks/frt_14-12_Data%20Cleaning.ipynb#Y121sZmlsZQ%3D%3D?line=4'>5</a>\u001b[0m \u001b[39mdef\u001b[39;00m \u001b[39mclean_data\u001b[39m():\n\u001b[1;32m      <a href='vscode-notebook-cell:/Users/frtm/code/frtm29/EasyDolar/notebooks/frt_14-12_Data%20Cleaning.ipynb#Y121sZmlsZQ%3D%3D?line=5'>6</a>\u001b[0m     \u001b[39m# Extraer la data\u001b[39;00m\n\u001b[0;32m----> <a href='vscode-notebook-cell:/Users/frtm/code/frtm29/EasyDolar/notebooks/frt_14-12_Data%20Cleaning.ipynb#Y121sZmlsZQ%3D%3D?line=6'>7</a>\u001b[0m     root_dir \u001b[39m=\u001b[39m os\u001b[39m.\u001b[39mpath\u001b[39m.\u001b[39mdirname(os\u001b[39m.\u001b[39mpath\u001b[39m.\u001b[39mdirname(\u001b[39m__file__\u001b[39;49m))\n\u001b[1;32m      <a href='vscode-notebook-cell:/Users/frtm/code/frtm29/EasyDolar/notebooks/frt_14-12_Data%20Cleaning.ipynb#Y121sZmlsZQ%3D%3D?line=7'>8</a>\u001b[0m     csv_path \u001b[39m=\u001b[39m os\u001b[39m.\u001b[39mpath\u001b[39m.\u001b[39mjoin(root_dir, \u001b[39m\"\u001b[39m\u001b[39mraw_data\u001b[39m\u001b[39m\"\u001b[39m)\n\u001b[1;32m     <a href='vscode-notebook-cell:/Users/frtm/code/frtm29/EasyDolar/notebooks/frt_14-12_Data%20Cleaning.ipynb#Y121sZmlsZQ%3D%3D?line=9'>10</a>\u001b[0m     file_names \u001b[39m=\u001b[39m [file_name \u001b[39mfor\u001b[39;00m file_name \u001b[39min\u001b[39;00m os\u001b[39m.\u001b[39mlistdir(csv_path) \u001b[39mif\u001b[39;00m file_name\u001b[39m.\u001b[39mendswith(\u001b[39m\"\u001b[39m\u001b[39m.xlsx\u001b[39m\u001b[39m\"\u001b[39m)]\n",
      "\u001b[0;31mNameError\u001b[0m: name '__file__' is not defined"
     ]
    }
   ],
   "source": [
    "clean_data()\n"
   ]
  },
  {
   "cell_type": "code",
   "execution_count": null,
   "metadata": {},
   "outputs": [],
   "source": []
  }
 ],
 "metadata": {
  "kernelspec": {
   "display_name": "Python 3 (ipykernel)",
   "language": "python",
   "name": "python3"
  },
  "language_info": {
   "codemirror_mode": {
    "name": "ipython",
    "version": 3
   },
   "file_extension": ".py",
   "mimetype": "text/x-python",
   "name": "python",
   "nbconvert_exporter": "python",
   "pygments_lexer": "ipython3",
   "version": "3.10.6"
  }
 },
 "nbformat": 4,
 "nbformat_minor": 4
}
