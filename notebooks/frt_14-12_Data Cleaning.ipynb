{
 "cells": [
  {
   "cell_type": "markdown",
   "metadata": {},
   "source": [
    "# Data Collection y Data Cleaning de Features y target"
   ]
  },
  {
   "cell_type": "code",
   "execution_count": 2,
   "metadata": {},
   "outputs": [],
   "source": [
    "import pandas as pd\n",
    "import matplotlib.pyplot as plt\n"
   ]
  },
  {
   "cell_type": "markdown",
   "metadata": {},
   "source": [
    "Cargar datos"
   ]
  },
  {
   "cell_type": "code",
   "execution_count": 28,
   "metadata": {},
   "outputs": [],
   "source": [
    "\n",
    "data=pd.read_excel(\"/Users/frtm/code/frtm29/EasyDolar/raw_data/data.xlsx\")\n"
   ]
  },
  {
   "cell_type": "markdown",
   "metadata": {},
   "source": []
  },
  {
   "cell_type": "code",
   "execution_count": 29,
   "metadata": {},
   "outputs": [
    {
     "data": {
      "text/html": [
       "<div>\n",
       "<style scoped>\n",
       "    .dataframe tbody tr th:only-of-type {\n",
       "        vertical-align: middle;\n",
       "    }\n",
       "\n",
       "    .dataframe tbody tr th {\n",
       "        vertical-align: top;\n",
       "    }\n",
       "\n",
       "    .dataframe thead th {\n",
       "        text-align: right;\n",
       "    }\n",
       "</style>\n",
       "<table border=\"1\" class=\"dataframe\">\n",
       "  <thead>\n",
       "    <tr style=\"text-align: right;\">\n",
       "      <th></th>\n",
       "      <th>date</th>\n",
       "      <th>close</th>\n",
       "      <th>open</th>\n",
       "      <th>maximo</th>\n",
       "      <th>minimo</th>\n",
       "      <th>variacion</th>\n",
       "    </tr>\n",
       "  </thead>\n",
       "  <tbody>\n",
       "    <tr>\n",
       "      <th>0</th>\n",
       "      <td>15.12.2023</td>\n",
       "      <td>870.26</td>\n",
       "      <td>865.58</td>\n",
       "      <td>876.25</td>\n",
       "      <td>865.50</td>\n",
       "      <td>0,63 %</td>\n",
       "    </tr>\n",
       "    <tr>\n",
       "      <th>1</th>\n",
       "      <td>14.12.2023</td>\n",
       "      <td>864.78</td>\n",
       "      <td>870.80</td>\n",
       "      <td>871.17</td>\n",
       "      <td>862.47</td>\n",
       "      <td>-0,60 %</td>\n",
       "    </tr>\n",
       "    <tr>\n",
       "      <th>2</th>\n",
       "      <td>13.12.2023</td>\n",
       "      <td>870.00</td>\n",
       "      <td>875.05</td>\n",
       "      <td>879.75</td>\n",
       "      <td>869.43</td>\n",
       "      <td>-0,49 %</td>\n",
       "    </tr>\n",
       "    <tr>\n",
       "      <th>3</th>\n",
       "      <td>12.12.2023</td>\n",
       "      <td>874.25</td>\n",
       "      <td>881.83</td>\n",
       "      <td>885.17</td>\n",
       "      <td>873.73</td>\n",
       "      <td>-0,75 %</td>\n",
       "    </tr>\n",
       "    <tr>\n",
       "      <th>4</th>\n",
       "      <td>11.12.2023</td>\n",
       "      <td>880.83</td>\n",
       "      <td>871.35</td>\n",
       "      <td>885.89</td>\n",
       "      <td>870.25</td>\n",
       "      <td>1,21 %</td>\n",
       "    </tr>\n",
       "  </tbody>\n",
       "</table>\n",
       "</div>"
      ],
      "text/plain": [
       "         date   close    open  maximo  minimo variacion\n",
       "0  15.12.2023  870.26  865.58  876.25  865.50    0,63 %\n",
       "1  14.12.2023  864.78  870.80  871.17  862.47   -0,60 %\n",
       "2  13.12.2023  870.00  875.05  879.75  869.43   -0,49 %\n",
       "3  12.12.2023  874.25  881.83  885.17  873.73   -0,75 %\n",
       "4  11.12.2023  880.83  871.35  885.89  870.25    1,21 %"
      ]
     },
     "execution_count": 29,
     "metadata": {},
     "output_type": "execute_result"
    }
   ],
   "source": [
    "data.head()\n"
   ]
  },
  {
   "cell_type": "markdown",
   "metadata": {},
   "source": [
    "Arreglar como viene variación"
   ]
  },
  {
   "cell_type": "code",
   "execution_count": 30,
   "metadata": {},
   "outputs": [],
   "source": [
    "data['variacion'] = data['variacion'].str.rstrip('%').str.replace(',', '.').astype('float') / 100.0\n"
   ]
  },
  {
   "cell_type": "markdown",
   "metadata": {},
   "source": [
    "Elegir las fechas como ínidce"
   ]
  },
  {
   "cell_type": "code",
   "execution_count": 32,
   "metadata": {},
   "outputs": [],
   "source": [
    "# Convertir la columna \"date\" a formato de fecha\n",
    "data['date'] = pd.to_datetime(data['date'], format='%d.%m.%Y')\n",
    "\n",
    "# Establecer la columna \"date\" como índice\n",
    "data.set_index('date', inplace=True)\n"
   ]
  },
  {
   "cell_type": "code",
   "execution_count": 33,
   "metadata": {},
   "outputs": [],
   "source": [
    "# Ordenar el DataFrame por fechas de forma ascendente\n",
    "data.sort_index(inplace=True)\n"
   ]
  },
  {
   "cell_type": "code",
   "execution_count": null,
   "metadata": {},
   "outputs": [],
   "source": []
  },
  {
   "cell_type": "code",
   "execution_count": 39,
   "metadata": {},
   "outputs": [],
   "source": [
    "#Target es nuestro valor a predecir\n",
    "data[\"target\"]=data[\"close\"].shift(-1)\n"
   ]
  },
  {
   "cell_type": "code",
   "execution_count": 52,
   "metadata": {},
   "outputs": [
    {
     "data": {
      "text/html": [
       "<div>\n",
       "<style scoped>\n",
       "    .dataframe tbody tr th:only-of-type {\n",
       "        vertical-align: middle;\n",
       "    }\n",
       "\n",
       "    .dataframe tbody tr th {\n",
       "        vertical-align: top;\n",
       "    }\n",
       "\n",
       "    .dataframe thead th {\n",
       "        text-align: right;\n",
       "    }\n",
       "</style>\n",
       "<table border=\"1\" class=\"dataframe\">\n",
       "  <thead>\n",
       "    <tr style=\"text-align: right;\">\n",
       "      <th></th>\n",
       "      <th>close</th>\n",
       "      <th>open</th>\n",
       "      <th>maximo</th>\n",
       "      <th>minimo</th>\n",
       "      <th>variacion</th>\n",
       "      <th>target</th>\n",
       "    </tr>\n",
       "    <tr>\n",
       "      <th>date</th>\n",
       "      <th></th>\n",
       "      <th></th>\n",
       "      <th></th>\n",
       "      <th></th>\n",
       "      <th></th>\n",
       "      <th></th>\n",
       "    </tr>\n",
       "  </thead>\n",
       "  <tbody>\n",
       "    <tr>\n",
       "      <th>2000-01-03</th>\n",
       "      <td>527.85</td>\n",
       "      <td>527.80</td>\n",
       "      <td>528.00</td>\n",
       "      <td>525.90</td>\n",
       "      <td>-0.0036</td>\n",
       "      <td>529.05</td>\n",
       "    </tr>\n",
       "    <tr>\n",
       "      <th>2000-01-04</th>\n",
       "      <td>529.05</td>\n",
       "      <td>528.50</td>\n",
       "      <td>529.75</td>\n",
       "      <td>528.20</td>\n",
       "      <td>0.0023</td>\n",
       "      <td>529.25</td>\n",
       "    </tr>\n",
       "    <tr>\n",
       "      <th>2000-01-05</th>\n",
       "      <td>529.25</td>\n",
       "      <td>531.50</td>\n",
       "      <td>531.65</td>\n",
       "      <td>529.00</td>\n",
       "      <td>0.0004</td>\n",
       "      <td>526.35</td>\n",
       "    </tr>\n",
       "    <tr>\n",
       "      <th>2000-01-06</th>\n",
       "      <td>526.35</td>\n",
       "      <td>529.30</td>\n",
       "      <td>529.70</td>\n",
       "      <td>526.10</td>\n",
       "      <td>-0.0055</td>\n",
       "      <td>522.25</td>\n",
       "    </tr>\n",
       "    <tr>\n",
       "      <th>2000-01-07</th>\n",
       "      <td>522.25</td>\n",
       "      <td>523.80</td>\n",
       "      <td>524.75</td>\n",
       "      <td>521.30</td>\n",
       "      <td>-0.0078</td>\n",
       "      <td>519.85</td>\n",
       "    </tr>\n",
       "    <tr>\n",
       "      <th>2000-01-10</th>\n",
       "      <td>519.85</td>\n",
       "      <td>521.80</td>\n",
       "      <td>522.40</td>\n",
       "      <td>519.50</td>\n",
       "      <td>-0.0046</td>\n",
       "      <td>521.75</td>\n",
       "    </tr>\n",
       "    <tr>\n",
       "      <th>2000-01-11</th>\n",
       "      <td>521.75</td>\n",
       "      <td>518.35</td>\n",
       "      <td>522.35</td>\n",
       "      <td>517.40</td>\n",
       "      <td>0.0037</td>\n",
       "      <td>519.85</td>\n",
       "    </tr>\n",
       "    <tr>\n",
       "      <th>2000-01-12</th>\n",
       "      <td>519.85</td>\n",
       "      <td>521.70</td>\n",
       "      <td>523.60</td>\n",
       "      <td>519.20</td>\n",
       "      <td>-0.0036</td>\n",
       "      <td>516.65</td>\n",
       "    </tr>\n",
       "    <tr>\n",
       "      <th>2000-01-13</th>\n",
       "      <td>516.65</td>\n",
       "      <td>518.50</td>\n",
       "      <td>518.75</td>\n",
       "      <td>515.30</td>\n",
       "      <td>-0.0062</td>\n",
       "      <td>515.85</td>\n",
       "    </tr>\n",
       "    <tr>\n",
       "      <th>2000-01-14</th>\n",
       "      <td>515.85</td>\n",
       "      <td>515.20</td>\n",
       "      <td>517.65</td>\n",
       "      <td>513.95</td>\n",
       "      <td>-0.0015</td>\n",
       "      <td>512.25</td>\n",
       "    </tr>\n",
       "  </tbody>\n",
       "</table>\n",
       "</div>"
      ],
      "text/plain": [
       "             close    open  maximo  minimo  variacion  target\n",
       "date                                                         \n",
       "2000-01-03  527.85  527.80  528.00  525.90    -0.0036  529.05\n",
       "2000-01-04  529.05  528.50  529.75  528.20     0.0023  529.25\n",
       "2000-01-05  529.25  531.50  531.65  529.00     0.0004  526.35\n",
       "2000-01-06  526.35  529.30  529.70  526.10    -0.0055  522.25\n",
       "2000-01-07  522.25  523.80  524.75  521.30    -0.0078  519.85\n",
       "2000-01-10  519.85  521.80  522.40  519.50    -0.0046  521.75\n",
       "2000-01-11  521.75  518.35  522.35  517.40     0.0037  519.85\n",
       "2000-01-12  519.85  521.70  523.60  519.20    -0.0036  516.65\n",
       "2000-01-13  516.65  518.50  518.75  515.30    -0.0062  515.85\n",
       "2000-01-14  515.85  515.20  517.65  513.95    -0.0015  512.25"
      ]
     },
     "execution_count": 52,
     "metadata": {},
     "output_type": "execute_result"
    }
   ],
   "source": [
    "data.head(10)\n"
   ]
  },
  {
   "cell_type": "code",
   "execution_count": null,
   "metadata": {},
   "outputs": [],
   "source": []
  }
 ],
 "metadata": {
  "kernelspec": {
   "display_name": "EasyDolar",
   "language": "python",
   "name": "python3"
  },
  "language_info": {
   "codemirror_mode": {
    "name": "ipython",
    "version": 3
   },
   "file_extension": ".py",
   "mimetype": "text/x-python",
   "name": "python",
   "nbconvert_exporter": "python",
   "pygments_lexer": "ipython3",
   "version": "3.10.6"
  }
 },
 "nbformat": 4,
 "nbformat_minor": 2
}
