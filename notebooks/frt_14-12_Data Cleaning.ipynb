<<<<<<< HEAD
{
 "cells": [
  {
   "cell_type": "markdown",
   "metadata": {},
   "source": [
    "# Data Collection y Data Cleaning de Features y target"
   ]
  },
  {
   "cell_type": "code",
   "execution_count": 11,
   "metadata": {},
   "outputs": [],
   "source": [
    "import pandas as pd\n",
    "import matplotlib.pyplot as plt\n",
    "from EasyDolar import clean_data\n"
   ]
  },
  {
   "cell_type": "code",
   "execution_count": 12,
   "metadata": {},
   "outputs": [
    {
     "name": "stdout",
     "output_type": "stream",
     "text": [
      "The autoreload extension is already loaded. To reload it, use:\n",
      "  %reload_ext autoreload\n"
     ]
    }
   ],
   "source": [
    "%load_ext autoreload\n",
    "%autoreload 2\n"
   ]
  },
  {
   "cell_type": "code",
   "execution_count": 13,
   "metadata": {},
   "outputs": [
    {
     "name": "stdout",
     "output_type": "stream",
     "text": [
      "/Users/frtm/code/frtm29\n"
     ]
    }
   ],
   "source": [
    "cd ..\n"
   ]
  },
  {
   "cell_type": "code",
   "execution_count": 14,
   "metadata": {},
   "outputs": [
    {
     "name": "stdout",
     "output_type": "stream",
     "text": [
      "✅ data cleaned\n"
     ]
    },
    {
     "data": {
      "text/html": [
       "<div>\n",
       "<style scoped>\n",
       "    .dataframe tbody tr th:only-of-type {\n",
       "        vertical-align: middle;\n",
       "    }\n",
       "\n",
       "    .dataframe tbody tr th {\n",
       "        vertical-align: top;\n",
       "    }\n",
       "\n",
       "    .dataframe thead th {\n",
       "        text-align: right;\n",
       "    }\n",
       "</style>\n",
       "<table border=\"1\" class=\"dataframe\">\n",
       "  <thead>\n",
       "    <tr style=\"text-align: right;\">\n",
       "      <th></th>\n",
       "      <th>close</th>\n",
       "      <th>open</th>\n",
       "      <th>maximo</th>\n",
       "      <th>minimo</th>\n",
       "      <th>variacion</th>\n",
       "      <th>target</th>\n",
       "    </tr>\n",
       "    <tr>\n",
       "      <th>date</th>\n",
       "      <th></th>\n",
       "      <th></th>\n",
       "      <th></th>\n",
       "      <th></th>\n",
       "      <th></th>\n",
       "      <th></th>\n",
       "    </tr>\n",
       "  </thead>\n",
       "  <tbody>\n",
       "    <tr>\n",
       "      <th>2000-01-03</th>\n",
       "      <td>527.85</td>\n",
       "      <td>527.80</td>\n",
       "      <td>528.00</td>\n",
       "      <td>525.90</td>\n",
       "      <td>-0.0036</td>\n",
       "      <td>529.05</td>\n",
       "    </tr>\n",
       "    <tr>\n",
       "      <th>2000-01-04</th>\n",
       "      <td>529.05</td>\n",
       "      <td>528.50</td>\n",
       "      <td>529.75</td>\n",
       "      <td>528.20</td>\n",
       "      <td>0.0023</td>\n",
       "      <td>529.25</td>\n",
       "    </tr>\n",
       "    <tr>\n",
       "      <th>2000-01-05</th>\n",
       "      <td>529.25</td>\n",
       "      <td>531.50</td>\n",
       "      <td>531.65</td>\n",
       "      <td>529.00</td>\n",
       "      <td>0.0004</td>\n",
       "      <td>526.35</td>\n",
       "    </tr>\n",
       "    <tr>\n",
       "      <th>2000-01-06</th>\n",
       "      <td>526.35</td>\n",
       "      <td>529.30</td>\n",
       "      <td>529.70</td>\n",
       "      <td>526.10</td>\n",
       "      <td>-0.0055</td>\n",
       "      <td>522.25</td>\n",
       "    </tr>\n",
       "    <tr>\n",
       "      <th>2000-01-07</th>\n",
       "      <td>522.25</td>\n",
       "      <td>523.80</td>\n",
       "      <td>524.75</td>\n",
       "      <td>521.30</td>\n",
       "      <td>-0.0078</td>\n",
       "      <td>519.85</td>\n",
       "    </tr>\n",
       "    <tr>\n",
       "      <th>...</th>\n",
       "      <td>...</td>\n",
       "      <td>...</td>\n",
       "      <td>...</td>\n",
       "      <td>...</td>\n",
       "      <td>...</td>\n",
       "      <td>...</td>\n",
       "    </tr>\n",
       "    <tr>\n",
       "      <th>2023-12-11</th>\n",
       "      <td>880.83</td>\n",
       "      <td>871.35</td>\n",
       "      <td>885.89</td>\n",
       "      <td>870.25</td>\n",
       "      <td>0.0121</td>\n",
       "      <td>874.25</td>\n",
       "    </tr>\n",
       "    <tr>\n",
       "      <th>2023-12-12</th>\n",
       "      <td>874.25</td>\n",
       "      <td>881.83</td>\n",
       "      <td>885.17</td>\n",
       "      <td>873.73</td>\n",
       "      <td>-0.0075</td>\n",
       "      <td>870.00</td>\n",
       "    </tr>\n",
       "    <tr>\n",
       "      <th>2023-12-13</th>\n",
       "      <td>870.00</td>\n",
       "      <td>875.05</td>\n",
       "      <td>879.75</td>\n",
       "      <td>869.43</td>\n",
       "      <td>-0.0049</td>\n",
       "      <td>864.78</td>\n",
       "    </tr>\n",
       "    <tr>\n",
       "      <th>2023-12-14</th>\n",
       "      <td>864.78</td>\n",
       "      <td>870.80</td>\n",
       "      <td>871.17</td>\n",
       "      <td>862.47</td>\n",
       "      <td>-0.0060</td>\n",
       "      <td>870.26</td>\n",
       "    </tr>\n",
       "    <tr>\n",
       "      <th>2023-12-15</th>\n",
       "      <td>870.26</td>\n",
       "      <td>865.58</td>\n",
       "      <td>876.25</td>\n",
       "      <td>865.50</td>\n",
       "      <td>0.0063</td>\n",
       "      <td>NaN</td>\n",
       "    </tr>\n",
       "  </tbody>\n",
       "</table>\n",
       "<p>6242 rows × 6 columns</p>\n",
       "</div>"
      ],
      "text/plain": [
       "             close    open  maximo  minimo  variacion  target\n",
       "date                                                         \n",
       "2000-01-03  527.85  527.80  528.00  525.90    -0.0036  529.05\n",
       "2000-01-04  529.05  528.50  529.75  528.20     0.0023  529.25\n",
       "2000-01-05  529.25  531.50  531.65  529.00     0.0004  526.35\n",
       "2000-01-06  526.35  529.30  529.70  526.10    -0.0055  522.25\n",
       "2000-01-07  522.25  523.80  524.75  521.30    -0.0078  519.85\n",
       "...            ...     ...     ...     ...        ...     ...\n",
       "2023-12-11  880.83  871.35  885.89  870.25     0.0121  874.25\n",
       "2023-12-12  874.25  881.83  885.17  873.73    -0.0075  870.00\n",
       "2023-12-13  870.00  875.05  879.75  869.43    -0.0049  864.78\n",
       "2023-12-14  864.78  870.80  871.17  862.47    -0.0060  870.26\n",
       "2023-12-15  870.26  865.58  876.25  865.50     0.0063     NaN\n",
       "\n",
       "[6242 rows x 6 columns]"
      ]
     },
     "execution_count": 14,
     "metadata": {},
     "output_type": "execute_result"
    }
   ],
   "source": [
    "clean_data.clean_data()\n"
   ]
  },
  {
   "cell_type": "code",
   "execution_count": 11,
   "metadata": {},
   "outputs": [
    {
     "name": "stdout",
     "output_type": "stream",
     "text": [
      "/Users/juancorrea/code/frtm29/EasyDolar\n"
     ]
    },
    {
     "name": "stderr",
     "output_type": "stream",
     "text": [
      "/Users/juancorrea/.pyenv/versions/3.10.6/envs/EasyDolar/lib/python3.10/site-packages/IPython/core/magics/osm.py:417: UserWarning: using dhist requires you to install the `pickleshare` library.\n",
      "  self.shell.db['dhist'] = compress_dhist(dhist)[-100:]\n"
     ]
    }
   ],
   "source": []
  },
  {
   "cell_type": "code",
   "execution_count": 15,
   "metadata": {},
   "outputs": [],
   "source": [
    "import pandas as pd\n",
    "import matplotlib.pyplot as plt\n",
    "import os\n",
    "\n",
    "def clean_data():\n",
    "    # Extraer la data\n",
    "    root_dir = os.path.dirname(os.path.dirname(__file__))\n",
    "    csv_path = os.path.join(root_dir, \"raw_data\")\n",
    "\n",
    "    file_names = [file_name for file_name in os.listdir(csv_path) if file_name.endswith(\".xlsx\")]\n",
    "\n",
    "    # Crear un DataFrame vacío para almacenar los datos\n",
    "    cleaned_data = pd.DataFrame()\n",
    "\n",
    "    for file_name in file_names:\n",
    "        # Leer el archivo y agregar los datos al DataFrame\n",
    "        current_data = pd.read_csv(os.path.join(csv_path, file_name))\n",
    "        cleaned_data = pd.concat([cleaned_data, current_data], ignore_index=True)\n",
    "\n",
    "    # Limpiar la columna 'variacion'\n",
    "    cleaned_data['variacion'] = cleaned_data['variacion'].str.rstrip('%').str.replace(',', '.').astype('float') / 100.0\n",
    "\n",
    "    # Convertir la columna \"date\" a formato de fecha\n",
    "    cleaned_data['date'] = pd.to_datetime(cleaned_data['date'], format='%d.%m.%Y')\n",
    "\n",
    "    # Establecer la columna \"date\" como índice\n",
    "    cleaned_data.set_index('date', inplace=True)\n",
    "\n",
    "    # Ordenar el DataFrame por fechas de forma ascendente\n",
    "    cleaned_data.sort_index(inplace=True)\n",
    "\n",
    "    # Crear la columna \"target\" como el valor de \"close\" desplazado\n",
    "    cleaned_data[\"target\"] = cleaned_data[\"close\"].shift(-1)\n",
    "\n",
    "    print(\"✅ data cleaned\")\n",
    "    cleaned_data\n",
    "    return cleaned_data\n",
    "\n",
    "# Uso de la función\n",
    "# Suponiendo que tienes un DataFrame llamado 'raw_data'\n",
    "# cleaned_data_result = clean_data(raw_data)\n"
   ]
  },
  {
   "cell_type": "code",
   "execution_count": 18,
   "metadata": {},
   "outputs": [
    {
     "ename": "NameError",
     "evalue": "name '__file__' is not defined",
     "output_type": "error",
     "traceback": [
      "\u001b[0;31m---------------------------------------------------------------------------\u001b[0m",
      "\u001b[0;31mNameError\u001b[0m                                 Traceback (most recent call last)",
      "\u001b[1;32m/Users/frtm/code/frtm29/EasyDolar/notebooks/frt_14-12_Data Cleaning.ipynb Cell 8\u001b[0m line \u001b[0;36m1\n\u001b[0;32m----> <a href='vscode-notebook-cell:/Users/frtm/code/frtm29/EasyDolar/notebooks/frt_14-12_Data%20Cleaning.ipynb#Y121sZmlsZQ%3D%3D?line=0'>1</a>\u001b[0m clean_data()\n",
      "\u001b[1;32m/Users/frtm/code/frtm29/EasyDolar/notebooks/frt_14-12_Data Cleaning.ipynb Cell 8\u001b[0m line \u001b[0;36m7\n\u001b[1;32m      <a href='vscode-notebook-cell:/Users/frtm/code/frtm29/EasyDolar/notebooks/frt_14-12_Data%20Cleaning.ipynb#Y121sZmlsZQ%3D%3D?line=4'>5</a>\u001b[0m \u001b[39mdef\u001b[39;00m \u001b[39mclean_data\u001b[39m():\n\u001b[1;32m      <a href='vscode-notebook-cell:/Users/frtm/code/frtm29/EasyDolar/notebooks/frt_14-12_Data%20Cleaning.ipynb#Y121sZmlsZQ%3D%3D?line=5'>6</a>\u001b[0m     \u001b[39m# Extraer la data\u001b[39;00m\n\u001b[0;32m----> <a href='vscode-notebook-cell:/Users/frtm/code/frtm29/EasyDolar/notebooks/frt_14-12_Data%20Cleaning.ipynb#Y121sZmlsZQ%3D%3D?line=6'>7</a>\u001b[0m     root_dir \u001b[39m=\u001b[39m os\u001b[39m.\u001b[39mpath\u001b[39m.\u001b[39mdirname(os\u001b[39m.\u001b[39mpath\u001b[39m.\u001b[39mdirname(\u001b[39m__file__\u001b[39;49m))\n\u001b[1;32m      <a href='vscode-notebook-cell:/Users/frtm/code/frtm29/EasyDolar/notebooks/frt_14-12_Data%20Cleaning.ipynb#Y121sZmlsZQ%3D%3D?line=7'>8</a>\u001b[0m     csv_path \u001b[39m=\u001b[39m os\u001b[39m.\u001b[39mpath\u001b[39m.\u001b[39mjoin(root_dir, \u001b[39m\"\u001b[39m\u001b[39mraw_data\u001b[39m\u001b[39m\"\u001b[39m)\n\u001b[1;32m     <a href='vscode-notebook-cell:/Users/frtm/code/frtm29/EasyDolar/notebooks/frt_14-12_Data%20Cleaning.ipynb#Y121sZmlsZQ%3D%3D?line=9'>10</a>\u001b[0m     file_names \u001b[39m=\u001b[39m [file_name \u001b[39mfor\u001b[39;00m file_name \u001b[39min\u001b[39;00m os\u001b[39m.\u001b[39mlistdir(csv_path) \u001b[39mif\u001b[39;00m file_name\u001b[39m.\u001b[39mendswith(\u001b[39m\"\u001b[39m\u001b[39m.xlsx\u001b[39m\u001b[39m\"\u001b[39m)]\n",
      "\u001b[0;31mNameError\u001b[0m: name '__file__' is not defined"
     ]
    }
   ],
   "source": [
    "clean_data()\n"
   ]
  },
  {
   "cell_type": "code",
   "execution_count": null,
   "metadata": {},
   "outputs": [],
   "source": []
  }
=======

>>>>>>> 1ee07ec99ce4cd5f8f74fe72abf392b06c5e102f
 ],
 "metadata": {
  "kernelspec": {
   "display_name": "Python 3 (ipykernel)",
   "language": "python",
   "name": "python3"
  },
  "language_info": {
   "codemirror_mode": {
    "name": "ipython",
    "version": 3
   },
   "file_extension": ".py",
   "mimetype": "text/x-python",
   "name": "python",
   "nbconvert_exporter": "python",
   "pygments_lexer": "ipython3",
   "version": "3.10.6"
  }
 },
 "nbformat": 4,
 "nbformat_minor": 4
}
