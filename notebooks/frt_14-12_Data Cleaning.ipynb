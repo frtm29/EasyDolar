{
 "cells": [
  {
   "cell_type": "markdown",
   "metadata": {},
   "source": [
    "# Data Collection y Data Cleaning de Features y target"
   ]
  },
  {
   "cell_type": "code",
   "execution_count": 18,
   "metadata": {},
   "outputs": [],
   "source": [
    "import pandas as pd\n",
    "import matplotlib.pyplot as plt\n",
    "from clean_data import clean_data"
   ]
  },
  {
   "cell_type": "code",
   "execution_count": 21,
   "metadata": {},
   "outputs": [
    {
     "data": {
      "text/plain": [
       "date\n",
       "2000-01-03    529.05\n",
       "2000-01-04    529.25\n",
       "2000-01-05    526.35\n",
       "2000-01-06    522.25\n",
       "2000-01-07    519.85\n",
       "               ...  \n",
       "2023-12-11    874.25\n",
       "2023-12-12    870.00\n",
       "2023-12-13    864.78\n",
       "2023-12-14    870.26\n",
       "2023-12-15       NaN\n",
       "Name: target, Length: 6242, dtype: float64"
      ]
     },
     "execution_count": 21,
     "metadata": {},
     "output_type": "execute_result"
    }
   ],
   "source": [
    "data=pd.read_excel(\"data.xlsx\")\n",
    "data['variacion'] = data['variacion'].str.rstrip('%').str.replace(',', '.').astype('float') / 100.0\n",
    "# Convertir la columna \"date\" a formato de fecha\n",
    "data['date'] = pd.to_datetime(data['date'], format='%d.%m.%Y')\n",
    "\n",
    "# Establecer la columna \"date\" como índice\n",
    "data.set_index('date', inplace=True)\n",
    "# Ordenar el DataFrame por fechas de forma ascendente\n",
    "data.sort_index(inplace=True)\n",
    "#Target es nuestro valor a predecir\n",
    "data[\"target\"]=data[\"close\"].shift(-1)\n",
    "data[\"target\"]"
   ]
  }
 ],
 "metadata": {
  "kernelspec": {
   "display_name": "Python 3 (ipykernel)",
   "language": "python",
   "name": "python3"
  },
  "language_info": {
   "codemirror_mode": {
    "name": "ipython",
    "version": 3
   },
   "file_extension": ".py",
   "mimetype": "text/x-python",
   "name": "python",
   "nbconvert_exporter": "python",
   "pygments_lexer": "ipython3",
   "version": "3.10.6"
  }
 },
 "nbformat": 4,
 "nbformat_minor": 4
}
