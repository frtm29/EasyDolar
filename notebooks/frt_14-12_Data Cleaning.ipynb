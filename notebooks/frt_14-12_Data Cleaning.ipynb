{
 "cells": [
  {
   "cell_type": "markdown",
   "metadata": {},
   "source": [
    "# Data Collection y Data Cleaning de Features y target"
   ]
  },
  {
   "cell_type": "code",
: 18,
   "metadata": {},
   "outputs": [],
   "source": [
    "import pandas as pd\n",
   ]
  },
  {
   "cell_type": "code",

    "# Convertir la columna \"date\" a formato de fecha\n",
    "data['date'] = pd.to_datetime(data['date'], format='%d.%m.%Y')\n",
    "\n",
    "# Establecer la columna \"date\" como índice\n",

    "#Target es nuestro valor a predecir\n",
    "data[\"target\"]=data[\"close\"].shift(-1)\n",
    "data[\"target\"]"
   ]
  }
 ],
 "metadata": {
  "kernelspec": {
   "display_name": "Python 3 (ipykernel)",
   "language": "python",
   "name": "python3"
  },
  "language_info": {
   "codemirror_mode": {
    "name": "ipython",
    "version": 3
   },
   "file_extension": ".py",
   "mimetype": "text/x-python",
   "name": "python",
   "nbconvert_exporter": "python",
   "pygments_lexer": "ipython3",
   "version": "3.10.6"
  },
  "toc": {
   "base_numbering": 1,
   "nav_menu": {},
   "number_sections": true,
   "sideBar": true,
   "skip_h1_title": false,
   "title_cell": "Table of Contents",
   "title_sidebar": "Contents",
   "toc_cell": false,
   "toc_position": {},
   "toc_section_display": true,
   "toc_window_display": false
  }
 },
 "nbformat": 4,
 "nbformat_minor": 4
}
